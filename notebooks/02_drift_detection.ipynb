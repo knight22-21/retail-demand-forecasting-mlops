{
 "cells": [
  {
   "cell_type": "code",
   "execution_count": 1,
   "id": "488d7c69-fdd9-42de-baa0-bcf3c9e9e3e7",
   "metadata": {},
   "outputs": [],
   "source": [
    "import pandas as pd\n",
    "import numpy as np\n",
    "import json\n",
    "from joblib import load\n",
    "from sklearn.metrics import mean_absolute_error, mean_squared_error\n",
    "from evidently import Dataset\n",
    "from evidently import DataDefinition\n",
    "from evidently import Report\n",
    "from evidently.presets import DataDriftPreset\n",
    "import os"
   ]
  },
  {
   "cell_type": "code",
   "execution_count": 2,
   "id": "443301ba-a8bd-4ba0-b736-deea705c5ead",
   "metadata": {},
   "outputs": [],
   "source": [
    "# Step 1: Load Reference and Current Data\n",
    "reference_data = pd.read_csv(\"../data/processed/cleaned_data.csv\")\n",
    "#current_data = pd.read_csv(\"../data/processed/new_data.csv\")   # Simulate new data batch\n",
    "\n",
    "# If new data isn't available, simulate drift for demo purposes\n",
    "current_data = reference_data.sample(frac=1).copy()\n",
    "current_data['sales'] = current_data['sales'] * np.random.uniform(0.7, 1.3, len(current_data))\n",
    "\n",
    "# Define schema for Evidently\n",
    "schema = DataDefinition(\n",
    "    categorical_columns=[\"store\", \"item\"]\n",
    ")"
   ]
  },
  {
   "cell_type": "code",
   "execution_count": 3,
   "id": "2c6272f0-bfb4-4e3e-affe-35ea27e7d7de",
   "metadata": {},
   "outputs": [],
   "source": [
    "# Step 2: Create Evidently Datasets\n",
    "eval_data_ref = Dataset.from_pandas(\n",
    "    pd.DataFrame(reference_data), data_definition=schema\n",
    ")\n",
    "\n",
    "eval_data_curr = Dataset.from_pandas(\n",
    "    pd.DataFrame(current_data), data_definition=schema\n",
    ")"
   ]
  },
  {
   "cell_type": "code",
   "execution_count": 4,
   "id": "2d805e0a-b4a0-488c-8c5a-44df714648d7",
   "metadata": {},
   "outputs": [
    {
     "name": "stdout",
     "output_type": "stream",
     "text": [
      "Data Drift Report saved to '../reports/data_drift_report.html'.\n"
     ]
    }
   ],
   "source": [
    "# Step 3: Run Data Drift Report\n",
    "report = Report([DataDriftPreset()])\n",
    "data_drift_report = report.run(eval_data_curr, eval_data_ref)\n",
    "\n",
    "# Save Data Drift Report (HTML)\n",
    "data_drift_report.save_html(\"../reports/data_drift_report.html\")\n",
    "\n",
    "# Displaying the result for the user\n",
    "print(\"Data Drift Report saved to '../reports/data_drift_report.html'.\")"
   ]
  },
  {
   "cell_type": "code",
   "execution_count": 11,
   "id": "ba2cc313-25df-46c9-994a-f52f096b6c78",
   "metadata": {},
   "outputs": [
    {
     "name": "stdout",
     "output_type": "stream",
     "text": [
      "⚠️ Concept Drift Detected! Current MAPE: inf (baseline: 12.64)\n"
     ]
    }
   ],
   "source": [
    "\n",
    "model = load(\"../models/model.pkl\")\n",
    "\n",
    "# Step 1: Process current data (just like the training data)\n",
    "current_data['date'] = pd.to_datetime(current_data['date'])  # Ensure the date column is in datetime format\n",
    "current_data['year'] = current_data['date'].dt.year\n",
    "current_data['month'] = current_data['date'].dt.month\n",
    "current_data['day'] = current_data['date'].dt.day\n",
    "current_data['dayofweek'] = current_data['date'].dt.dayofweek\n",
    "current_data['is_weekend'] = current_data['dayofweek'].isin([5,6]).astype(int)\n",
    "\n",
    "# Sort and group by store-item\n",
    "current_data = current_data.sort_values(['store', 'item', 'date'])\n",
    "current_data['lag_1'] = current_data.groupby(['store','item'])['sales'].shift(1)\n",
    "current_data['lag_7'] = current_data.groupby(['store','item'])['sales'].shift(7)\n",
    "current_data['rolling_mean_7'] = current_data.groupby(['store','item'])['sales'].shift(1).rolling(7).mean()\n",
    "current_data['rolling_mean_30'] = current_data.groupby(['store','item'])['sales'].shift(1).rolling(30).mean()\n",
    "\n",
    "# Drop NaN values after creating features\n",
    "current_data = current_data.dropna()\n",
    "\n",
    "# Prepare current data for prediction\n",
    "X_curr = current_data.drop(['sales', 'date'], axis=1)  # Make sure sales and date are dropped\n",
    "y_curr = current_data['sales']\n",
    "\n",
    "# Step 2: Model Prediction\n",
    "y_pred = model.predict(X_curr)\n",
    "\n",
    "# Step 3: Calculate performance metrics (MAE, RMSE, MAPE)\n",
    "mae = mean_absolute_error(y_curr, y_pred)\n",
    "rmse = np.sqrt(mean_squared_error(y_curr, y_pred))\n",
    "mape = np.mean(np.abs((y_curr - y_pred) / y_curr)) * 100\n",
    "\n",
    "# Load baseline metrics\n",
    "with open(\"../models/metrics.json\") as f:\n",
    "    base_metrics = json.load(f)\n",
    "\n",
    "# Step 4: Compare with baseline MAPE to detect concept drift\n",
    "concept_drift_detected = mape > base_metrics[\"mape\"] * 1.2\n",
    "\n",
    "# Step 5: Print Concept Drift Status\n",
    "if concept_drift_detected:\n",
    "    print(f\"⚠️ Concept Drift Detected! Current MAPE: {mape:.2f} (baseline: {base_metrics['mape']:.2f})\")\n",
    "else:\n",
    "    print(f\"✅ Model performance is stable. MAPE: {mape:.2f} (baseline: {base_metrics['mape']:.2f})\")\n"
   ]
  },
  {
   "cell_type": "code",
   "execution_count": 13,
   "id": "1bde0a26-632b-4bf3-97a7-03edbb211bc4",
   "metadata": {},
   "outputs": [],
   "source": [
    "# print(dir(data_drift_report))\n"
   ]
  },
  {
   "cell_type": "code",
   "execution_count": 15,
   "id": "b9d2e422-1bd5-4993-92da-032e8f70fc2a",
   "metadata": {},
   "outputs": [],
   "source": [
    "# Inspect the _metrics and metric_results attributes\n",
    "#print(\"Metrics:\", data_drift_report._metrics)\n",
    "#print(\"Metric Results:\", data_drift_report.metric_results)\n"
   ]
  },
  {
   "cell_type": "code",
   "execution_count": 17,
   "id": "6cf56949-dd85-4086-a8d0-3c684eeb8430",
   "metadata": {},
   "outputs": [],
   "source": [
    "# Access dataset drift from _metrics (or metric_results, depending on structure)\n",
    "dataset_drift = data_drift_report._metrics.get('dataset_drift', None)\n"
   ]
  },
  {
   "cell_type": "code",
   "execution_count": 19,
   "id": "c40e4b32-cd26-4944-8dfb-484a8dbb088e",
   "metadata": {},
   "outputs": [
    {
     "name": "stdout",
     "output_type": "stream",
     "text": [
      "Drift metrics logged and saved to 'drift_logs.log' and 'drift_summary.json'.\n"
     ]
    }
   ],
   "source": [
    "# Convert numpy.bool_ to Python bool\n",
    "def convert_to_native_bool(val):\n",
    "    if isinstance(val, np.bool_):  # Check if it's a numpy boolean\n",
    "        return bool(val)  # Convert to native Python boolean\n",
    "    return val\n",
    "\n",
    "# Step 5: Save Drift Metrics to Log\n",
    "try:\n",
    "    # Convert all drift metrics to native Python types\n",
    "    drift_results = {\n",
    "        \"data_drift_detected\": convert_to_native_bool(dataset_drift),\n",
    "        \"concept_drift_detected\": convert_to_native_bool(concept_drift_detected),\n",
    "        \"current_mape\": mape,\n",
    "        \"baseline_mape\": base_metrics[\"mape\"]\n",
    "    }\n",
    "\n",
    "    # Append drift results to log file\n",
    "    with open(\"../logs/drift_logs.log\", \"a\") as f:\n",
    "        f.write(json.dumps(drift_results) + \"\\n\")\n",
    "\n",
    "    # Save summary of drift results as JSON\n",
    "    with open(\"../reports/drift_summary.json\", \"w\") as f:\n",
    "        json.dump(drift_results, f, indent=2)\n",
    "\n",
    "    # Display success message\n",
    "    print(\"Drift metrics logged and saved to 'drift_logs.log' and 'drift_summary.json'.\")\n",
    "\n",
    "except Exception as e:\n",
    "    print(f\"Error while saving drift metrics: {e}\")\n"
   ]
  },
  {
   "cell_type": "code",
   "execution_count": null,
   "id": "46d32ee5-cd9e-4b30-9049-5291cec22173",
   "metadata": {},
   "outputs": [],
   "source": []
  },
  {
   "cell_type": "code",
   "execution_count": null,
   "id": "efc0f338-96ef-48d9-acfd-fcb3bebd5648",
   "metadata": {},
   "outputs": [],
   "source": []
  }
 ],
 "metadata": {
  "kernelspec": {
   "display_name": "Python [conda env:base] *",
   "language": "python",
   "name": "conda-base-py"
  },
  "language_info": {
   "codemirror_mode": {
    "name": "ipython",
    "version": 3
   },
   "file_extension": ".py",
   "mimetype": "text/x-python",
   "name": "python",
   "nbconvert_exporter": "python",
   "pygments_lexer": "ipython3",
   "version": "3.11.11"
  }
 },
 "nbformat": 4,
 "nbformat_minor": 5
}
